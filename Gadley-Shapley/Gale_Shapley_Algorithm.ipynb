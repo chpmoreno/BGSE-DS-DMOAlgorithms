{
 "cells": [
  {
   "cell_type": "markdown",
   "metadata": {},
   "source": [
    "# Gale-Shapley algorithm\n",
    "\n",
    "This is a Python code for Gale-Shapley algorithm. The code is based on Rosetta Code posted on https://rosettacode.org/wiki/Stable_marriage_problem#Python. The principal mathematical results given here are based on *Jon Kleinberg* and *Éva Tardos* book **Algorithm Design**. \n",
    "\n",
    "For create the algorithm we are going to use two main functions:\n",
    "* Matchmaker.\n",
    "* Check.\n",
    "\n",
    "### Matchmaker function\n",
    "\n",
    "##### Summary:\n",
    "The function tries to...\n",
    "\n",
    "The following are my comments respect basic python for non-advanced programmers (following https://docs.python.org/3/tutorial/):\n",
    "* **{}:** Define an empty *set*. A *set* is an unordered collection with no duplicate elements. Basic uses include membership testing and eliminating duplicate entries. Set objects also support mathematical operations like union, intersection, difference, and symmetric difference.\n",
    "* **copy.deepcopy():** Create a set of the element you introduce (in this case a list).\n",
    "* **list.pop([i]):** Remove the item at the given position in the list, and return it. If no index is specified, a.pop() removes and returns the last item in the list. (The square brackets around the i in the method signature denote that the parameter is optional, not that you should type square brackets at that position. You will see this notation frequently in the Python Library Reference.)\n",
    "* **list.pop([i]):** Remove the item at the given position in the list, and return it. If no index is specified, a.pop() removes and returns the last item in the list. (The square brackets around the i in the method signature denote that the parameter is optional, not that you should type square brackets at that position. You will see this notation frequently in the Python Library Reference.)"
   ]
  },
  {
   "cell_type": "code",
   "execution_count": null,
   "metadata": {
    "collapsed": true
   },
   "outputs": [],
   "source": [
    "def matchmaker():\n",
    "    guysfree = guys[:]\n",
    "    engaged  = {}\n",
    "    guyprefers2 = copy.deepcopy(guyprefers)\n",
    "    galprefers2 = copy.deepcopy(galprefers)\n",
    "    while guysfree:\n",
    "        guy = guysfree.pop(0)\n",
    "        guyslist = guyprefers2[guy]\n",
    "        gal = guyslist.pop(0)\n",
    "        fiance = engaged.get(gal)\n",
    "        if not fiance:\n",
    "            # She's free\n",
    "            engaged[gal] = guy\n",
    "            print(\"  %s and %s\" % (guy, gal))\n",
    "        else:\n",
    "            # The bounder proposes to an engaged lass!\n",
    "            galslist = galprefers2[gal]\n",
    "            if galslist.index(fiance) > galslist.index(guy):\n",
    "                # She prefers new guy\n",
    "                engaged[gal] = guy\n",
    "                print(\"  %s dumped %s for %s\" % (gal, fiance, guy))\n",
    "                if guyprefers2[fiance]:\n",
    "                    # Ex has more girls to try\n",
    "                    guysfree.append(fiance)\n",
    "            else:\n",
    "                # She is faithful to old fiance\n",
    "                if guyslist:\n",
    "                    # Look again\n",
    "                    guysfree.append(guy)\n",
    "    return engaged"
   ]
  },
  {
   "cell_type": "markdown",
   "metadata": {
    "collapsed": true
   },
   "source": [
    "### Check function\n",
    "\n",
    "##### Summary:\n",
    "The function tries to...\n",
    "\n",
    "The following are my comments respect basic python for non-advanced programmers (following https://docs.python.org/3/tutorial/):\n",
    "* The **dict()** constructor builds dictionaries directly from sequences of key-value pairs.\n",
    "* **list.index(x)** Return the index in the list of the first item whose value is x. It is an error if there is no such item."
   ]
  },
  {
   "cell_type": "code",
   "execution_count": null,
   "metadata": {
    "collapsed": true
   },
   "outputs": [],
   "source": [
    "def check(engaged):\n",
    "    inverseengaged = dict((v,k) for k,v in engaged.items())\n",
    "    for she, he in engaged.items():\n",
    "        shelikes = galprefers[she]\n",
    "        shelikesbetter = shelikes[:shelikes.index(he)]\n",
    "        helikes = guyprefers[he]\n",
    "        helikesbetter = helikes[:helikes.index(she)]\n",
    "        for guy in shelikesbetter:\n",
    "            guysgirl = inverseengaged[guy]\n",
    "            guylikes = guyprefers[guy]\n",
    "            if guylikes.index(guysgirl) > guylikes.index(she):\n",
    "                print(\"%s and %s like each other better than \"\n",
    "                      \"their present partners: %s and %s, respectively\"\n",
    "                      % (she, guy, he, guysgirl))\n",
    "                return False\n",
    "        for gal in helikesbetter:\n",
    "            girlsguy = engaged[gal]\n",
    "            gallikes = galprefers[gal]\n",
    "            if gallikes.index(girlsguy) > gallikes.index(he):\n",
    "                print(\"%s and %s like each other better than \"\n",
    "                      \"their present partners: %s and %s, respectively\"\n",
    "                      % (he, gal, she, girlsguy))\n",
    "                return False\n",
    "    return True"
   ]
  },
  {
   "cell_type": "markdown",
   "metadata": {},
   "source": [
    "### Example:"
   ]
  },
  {
   "cell_type": "code",
   "execution_count": null,
   "metadata": {
    "collapsed": true
   },
   "outputs": [],
   "source": [
    "# Import the library copy\n",
    "import copy\n",
    "\n",
    "# men preferences as a dictionary.\n",
    "guyprefers = {\n",
    " 'abe':  ['abi', 'eve', 'cath', 'ivy', 'jan', 'dee', 'fay', 'bea', 'hope', 'gay'],\n",
    " 'bob':  ['cath', 'hope', 'abi', 'dee', 'eve', 'fay', 'bea', 'jan', 'ivy', 'gay'],\n",
    " 'col':  ['hope', 'eve', 'abi', 'dee', 'bea', 'fay', 'ivy', 'gay', 'cath', 'jan'],\n",
    " 'dan':  ['ivy', 'fay', 'dee', 'gay', 'hope', 'eve', 'jan', 'bea', 'cath', 'abi'],\n",
    " 'ed':   ['jan', 'dee', 'bea', 'cath', 'fay', 'eve', 'abi', 'ivy', 'hope', 'gay'],\n",
    " 'fred': ['bea', 'abi', 'dee', 'gay', 'eve', 'ivy', 'cath', 'jan', 'hope', 'fay'],\n",
    " 'gav':  ['gay', 'eve', 'ivy', 'bea', 'cath', 'abi', 'dee', 'hope', 'jan', 'fay'],\n",
    " 'hal':  ['abi', 'eve', 'hope', 'fay', 'ivy', 'cath', 'jan', 'bea', 'gay', 'dee'],\n",
    " 'ian':  ['hope', 'cath', 'dee', 'gay', 'bea', 'abi', 'fay', 'ivy', 'jan', 'eve'],\n",
    " 'jon':  ['abi', 'fay', 'jan', 'gay', 'eve', 'bea', 'dee', 'cath', 'ivy', 'hope']}\n",
    "\n",
    "# women preferences\n",
    "galprefers = {\n",
    " 'abi':  ['bob', 'fred', 'jon', 'gav', 'ian', 'abe', 'dan', 'ed', 'col', 'hal'],\n",
    " 'bea':  ['bob', 'abe', 'col', 'fred', 'gav', 'dan', 'ian', 'ed', 'jon', 'hal'],\n",
    " 'cath': ['fred', 'bob', 'ed', 'gav', 'hal', 'col', 'ian', 'abe', 'dan', 'jon'],\n",
    " 'dee':  ['fred', 'jon', 'col', 'abe', 'ian', 'hal', 'gav', 'dan', 'bob', 'ed'],\n",
    " 'eve':  ['jon', 'hal', 'fred', 'dan', 'abe', 'gav', 'col', 'ed', 'ian', 'bob'],\n",
    " 'fay':  ['bob', 'abe', 'ed', 'ian', 'jon', 'dan', 'fred', 'gav', 'col', 'hal'],\n",
    " 'gay':  ['jon', 'gav', 'hal', 'fred', 'bob', 'abe', 'col', 'ed', 'dan', 'ian'],\n",
    " 'hope': ['gav', 'jon', 'bob', 'abe', 'ian', 'dan', 'hal', 'ed', 'col', 'fred'],\n",
    " 'ivy':  ['ian', 'col', 'hal', 'gav', 'fred', 'bob', 'abe', 'ed', 'jon', 'dan'],\n",
    " 'jan':  ['ed', 'hal', 'gav', 'abe', 'bob', 'jon', 'col', 'ian', 'fred', 'dan']}\n",
    " \n",
    "# sorted alphabetically\n",
    "guys = sorted(guyprefers.keys())\n",
    "gals = sorted(galprefers.keys())\n",
    "\n",
    "print('\\nEngagements:')\n",
    "engaged = matchmaker()\n",
    " \n",
    "print('\\nCouples:')\n",
    "print('  ' + ',\\n  '.join('%s is engaged to %s' % couple\n",
    "                          for couple in sorted(engaged.items())))\n",
    "print()\n",
    "print('Engagement stability check PASSED'\n",
    "      if check(engaged) else 'Engagement stability check FAILED')\n",
    " \n",
    "print('\\n\\nSwapping two fiances to introduce an error')\n",
    "engaged[gals[0]], engaged[gals[1]] = engaged[gals[1]], engaged[gals[0]]\n",
    "for gal in gals[:2]:\n",
    "    print('  %s is now engaged to %s' % (gal, engaged[gal]))\n",
    "print()\n",
    "print('Engagement stability check PASSED'\n",
    "      if check(engaged) else 'Engagement stability check FAILED')"
   ]
  }
 ],
 "metadata": {
  "kernelspec": {
   "display_name": "Python [Root]",
   "language": "python",
   "name": "Python [Root]"
  },
  "language_info": {
   "codemirror_mode": {
    "name": "ipython",
    "version": 3
   },
   "file_extension": ".py",
   "mimetype": "text/x-python",
   "name": "python",
   "nbconvert_exporter": "python",
   "pygments_lexer": "ipython3",
   "version": "3.5.2"
  }
 },
 "nbformat": 4,
 "nbformat_minor": 0
}
