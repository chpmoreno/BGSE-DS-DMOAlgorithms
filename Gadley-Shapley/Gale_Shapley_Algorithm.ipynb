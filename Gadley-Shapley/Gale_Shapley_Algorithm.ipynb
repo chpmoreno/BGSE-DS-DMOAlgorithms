{
 "cells": [
  {
   "cell_type": "markdown",
   "metadata": {},
   "source": [
    "# Gale-Shapley algorithm\n",
    "\n",
    "This is a Python code for Gale-Shapley algorithm. The code is based on Rosetta Code posted on https://rosettacode.org/wiki/Stable_marriage_problem#Python. The principal mathematical results given here are based on *Jon Kleinberg* and *Éva Tardos* book **Algorithm Design**. \n",
    "\n",
    "For create the algorithm we are going to use two main functions:\n",
    "* Matchmaker:\n",
    "* Check:"
   ]
  },
  {
   "cell_type": "markdown",
   "metadata": {},
   "source": [
    "### Matchmaker function"
   ]
  },
  {
   "cell_type": "code",
   "execution_count": null,
   "metadata": {
    "collapsed": true
   },
   "outputs": [],
   "source": [
    "def matchmaker():\n",
    "    guysfree = guys[:]\n",
    "    engaged  = {}\n",
    "    guyprefers2 = copy.deepcopy(guyprefers)\n",
    "    galprefers2 = copy.deepcopy(galprefers)\n",
    "    while guysfree:\n",
    "        guy = guysfree.pop(0)\n",
    "        guyslist = guyprefers2[guy]\n",
    "        gal = guyslist.pop(0)\n",
    "        fiance = engaged.get(gal)\n",
    "        if not fiance:\n",
    "            # She's free\n",
    "            engaged[gal] = guy\n",
    "            print(\"  %s and %s\" % (guy, gal))\n",
    "        else:\n",
    "            # The bounder proposes to an engaged lass!\n",
    "            galslist = galprefers2[gal]\n",
    "            if galslist.index(fiance) > galslist.index(guy):\n",
    "                # She prefers new guy\n",
    "                engaged[gal] = guy\n",
    "                print(\"  %s dumped %s for %s\" % (gal, fiance, guy))\n",
    "                if guyprefers2[fiance]:\n",
    "                    # Ex has more girls to try\n",
    "                    guysfree.append(fiance)\n",
    "            else:\n",
    "                # She is faithful to old fiance\n",
    "                if guyslist:\n",
    "                    # Look again\n",
    "                    guysfree.append(guy)\n",
    "    return engaged"
   ]
  }
 ],
 "metadata": {
  "kernelspec": {
   "display_name": "Python [Root]",
   "language": "python",
   "name": "Python [Root]"
  },
  "language_info": {
   "codemirror_mode": {
    "name": "ipython",
    "version": 3
   },
   "file_extension": ".py",
   "mimetype": "text/x-python",
   "name": "python",
   "nbconvert_exporter": "python",
   "pygments_lexer": "ipython3",
   "version": "3.5.2"
  }
 },
 "nbformat": 4,
 "nbformat_minor": 0
}
