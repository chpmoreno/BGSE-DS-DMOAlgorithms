{
 "cells": [
  {
   "cell_type": "markdown",
   "metadata": {},
   "source": [
    "# Deterministic Models and Optimization\n",
    "## Homework 1 \n",
    "### José Fernando Moreno Gutiérrez (GSE-MDS138478)\n",
    "\n",
    "#### 1\n",
    "\n",
    "The algorithm proposed for this task is called Longest Common Sequence (LCS). The following is the pseudo code for this algorithm:\n",
    "\n",
    "___\n",
    "Let\n",
    "\n",
    "$S_1$ = sequence of of $K$ with $n$ events, $S_1 = [1, ..., n]$ (e.g. ACDEFG)\n",
    "\n",
    "$S_2$ = a subsequence of $S_1$, $S_2 = [1, ..., m]$ (e.g. EFG)\n",
    "\n",
    "Therefore the LCS algorithm is:\n",
    "\n",
    "$S_1 = [1, ..., i]$ such that $1 \\leq i \\leq  n$\n",
    "\n",
    "$S_2 = [1, ..., j]$ such that $1 \\leq j \\leq m$ \n",
    "\n",
    "Store indices in $C_{ij}$\n",
    "\n",
    "Initially, set $i = j = 1$\n",
    "\n",
    "While $i \\leq n$ , $j \\leq m$\n",
    "\n",
    "If $S_{1_i} = S_{2_j}$\n",
    "\n",
    "Then let $C_j = i$\n",
    "\n",
    "$i = i + 1$ & $j = j+1$\n",
    "\n",
    "Otherwise, \n",
    "\n",
    "let $i = i + 1$  \n",
    "\n",
    "EndWhile\n",
    "\n",
    "If $m = \\sum_i C_i$\n",
    "\n",
    "Then return \"we found a subsequence\"\n",
    "\n",
    "Else return \"it is not a subsequende\"\n",
    "___\n",
    "\n",
    "This algorithm is O(m+n) since it is linear and with each iteration is increased by 1. \n",
    "\n",
    "I programmed a R code for the algorithm. This code was created for learning purposes and for trying to check if the algorithm works. We use the same long first sequence but in the second \"subsequence\" I change one stock name to show that it is not a subsequence."
   ]
  },
  {
   "cell_type": "code",
   "execution_count": 2,
   "metadata": {
    "collapsed": false
   },
   "outputs": [
    {
     "name": "stdout",
     "output_type": "stream",
     "text": [
      "[1] \"we found a subsequence\"\n",
      "[1] \"it is not a subsequence\"\n"
     ]
    }
   ],
   "source": [
    "subseq_detect <- function(sequence_1, sequence_2){\n",
    "  C = NULL\n",
    "  i <- j <-  1\n",
    "  while(i <= length(sequence_1) & j <= length(sequence_2)){\n",
    "    if(sequence_1[i] == sequence_2[j]){\n",
    "      C[j] <- 1\n",
    "      i <- i + 1\n",
    "      j <- j + 1\n",
    "    } else {\n",
    "      i <- i + 1\n",
    "    }\n",
    "  }\n",
    "  if(sum(C) == length(sequence_2)){\n",
    "    print(\"we found a subsequence\")\n",
    "  } else{\n",
    "    print(\"it is not a subsequence\")\n",
    "  }\n",
    "}\n",
    "\n",
    "sequence_1 <- c('buy Amazon', 'buy Yahoo', 'buy eBay', 'buy Yahoo', 'buy Yahoo', 'buy Oracle')\n",
    "sequence_2 <- c('buy Yahoo', 'buy eBay', 'buy Yahoo', 'buy Oracle')\n",
    "\n",
    "subseq_detect(sequence_1, sequence_2)\n",
    "\n",
    "sequence_1 <- c('buy Amazon', 'buy Yahoo', 'buy eBay', 'buy Yahoo', 'buy Yahoo', 'buy Oracle')\n",
    "sequence_2 <- c('buy Yahoo', 'buy eBay', 'buy Pepsi', 'buy Oracle')\n",
    "\n",
    "subseq_detect(sequence_1, sequence_2)"
   ]
  },
  {
   "cell_type": "markdown",
   "metadata": {},
   "source": [
    "**Correctness**\n",
    "\n",
    "If $S_2$ is a subsequence of $S_2$ then there will be $m$ elements in $S_1$.\n",
    "\n",
    "The proposed algorithm start with the first element in $S_2$, and start to compare it with the whole elements in $S_1$ until it finds the first element equal to this element. Then \n",
    "\n",
    "Now, assume that we have found all the elements until $T_{k}$ in S, such that $S_{j_k}=T_k$ and $j_k\\leq i_k$. Then, as the $T_{k+1}$ exists in S and $i_{k+1}>i_k$, the algorithm will find an element $S_{j_{k+1}}=T_{k+1}$ such that $j_{k+1}\\leq i_{k+1}$. By induction, the algorithm will find a sequence of elements $S_{j_1}=T_1,...,S_{j_m}=T_m$ such that $j_k\\leq i_k$.\n",
    "\n",
    "If S' is not a subsequence of S then or $T_1\\notin S$ or after finding an element $S_{i_k}=T_k$ there will not be any $S_j=T_{k+1}$, $j>i_k$. In both cases the algorithm will discard all the elements $S_{j+k}$ until discarding $n-m+1$ elements (in such case it will not be possible to find a sequence of m elements in S)."
   ]
  },
  {
   "cell_type": "code",
   "execution_count": 1,
   "metadata": {
    "collapsed": false
   },
   "outputs": [
    {
     "data": {
      "text/html": [
       "<ol class=list-inline>\n",
       "\t<li>55</li>\n",
       "\t<li>0</li>\n",
       "\t<li>55</li>\n",
       "\t<li>10</li>\n",
       "</ol>\n"
      ],
      "text/latex": [
       "\\begin{enumerate*}\n",
       "\\item 55\n",
       "\\item 0\n",
       "\\item 55\n",
       "\\item 10\n",
       "\\end{enumerate*}\n"
      ],
      "text/markdown": [
       "1. 55\n",
       "2. 0\n",
       "3. 55\n",
       "4. 10\n",
       "\n",
       "\n"
      ],
      "text/plain": [
       "[1] 55  0 55 10"
      ]
     },
     "metadata": {},
     "output_type": "display_data"
    }
   ],
   "source": [
    "hackers_work <- function(l, h, method = \"correct\"){\n",
    "  \n",
    "  if(length(l) == length(h)) {\n",
    "    n = length(l)\n",
    "  } else {\n",
    "    print(\"the vectors don't have the same lenght\")\n",
    "  }\n",
    "  if(method == \"correct\"){\n",
    "    output <- list()\n",
    "    output[[1]] <- max(l[1], h[1])\n",
    "    output_aux <- which.max(c(l[1] +  l[2], h[1] + l[2],  h[2]))\n",
    "    if(output_aux == 1){\n",
    "      output[[2]] <- c(l[1], l[2])\n",
    "    } else{\n",
    "      if(output_aux == 2) {\n",
    "        output[[2]] <- c(h[1], l[2])\n",
    "      } else{\n",
    "        output[[2]] <- c(0, h[2])\n",
    "      }\n",
    "    }\n",
    "    \n",
    "    for(i in 3:n) {\n",
    "      if(h[i] > output[[i - 1]][length(output[[i - 1]])] + l[i]) {\n",
    "        output[[i]]   <- c(output[[i - 2]], 0, h[i])\n",
    "      } else {\n",
    "        output[[i]] <- c(output[[i - 1]], l[i])\n",
    "      }\n",
    "    }\n",
    "    output <- output[[length(output)]]\n",
    "  }\n",
    "  if(method == \"incorrect\"){\n",
    "    output = NULL\n",
    "    l[n + 1] <- 0\n",
    "    h[n + 1] <- 0\n",
    "    a <- 0\n",
    "    for(i in 1:n) {\n",
    "      if(a == 1) {\n",
    "        a <- 0\n",
    "        next\n",
    "      }\n",
    "      if(h[i + 1] > l[i] + l[i + 1]) {\n",
    "        output[i] <- 0\n",
    "        output[i + 1] <- h[i + 1]\n",
    "        a <- 1\n",
    "        next\n",
    "      } else {\n",
    "        output[i] <- l[i]\n",
    "        a <- 0\n",
    "        next\n",
    "      }\n",
    "    }  \n",
    "  }\n",
    "  return(output)\n",
    "}\n",
    "\n",
    "l = c(10, 1, 10, 10)\n",
    "h = c(55, 50, 55, 1)\n",
    "hackers_work(l, h, \"correct\")"
   ]
  },
  {
   "cell_type": "code",
   "execution_count": null,
   "metadata": {
    "collapsed": true
   },
   "outputs": [],
   "source": []
  }
 ],
 "metadata": {
  "anaconda-cloud": {},
  "kernelspec": {
   "display_name": "R",
   "language": "R",
   "name": "ir"
  },
  "language_info": {
   "codemirror_mode": "r",
   "file_extension": ".r",
   "mimetype": "text/x-r-source",
   "name": "R",
   "pygments_lexer": "r",
   "version": "3.3.2"
  }
 },
 "nbformat": 4,
 "nbformat_minor": 0
}
