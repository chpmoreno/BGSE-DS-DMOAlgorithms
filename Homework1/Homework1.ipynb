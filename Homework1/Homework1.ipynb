{
 "cells": [
  {
   "cell_type": "code",
   "execution_count": null,
   "metadata": {
    "collapsed": true
   },
   "outputs": [],
   "source": [
    "subseq_detect <- function(sequence_1, sequence_2){\n",
    "  C = NULL\n",
    "  i <- j <-  1\n",
    "  while(i <= length(sequence_1) & j <= length(sequence_2)){\n",
    "    if(sequence_1[i] == sequence_2[j]){\n",
    "      C[j] <- 1\n",
    "      i <- i + 1\n",
    "      j <- j + 1\n",
    "    } else {\n",
    "      i <- i + 1\n",
    "    }\n",
    "  }\n",
    "  if(sum(C) == length(sequence_2)){\n",
    "    print(\"we found a subsequence\")\n",
    "  } else{\n",
    "    print(\"it is not a subsequence\")\n",
    "  }\n",
    "}\n",
    "\n",
    "sequence_1 <- c('buy Amazon', 'buy Yahoo', 'buy eBay', 'buy Yahoo', 'buy Yahoo', 'buy Oracle')\n",
    "sequence_2 <- c('buy Yaoo', 'buy eBay', 'buy Yahoo', 'buy Oracle')\n",
    "\n",
    "subseq_detect(sequence_1, sequence_2)"
   ]
  },
  {
   "cell_type": "code",
   "execution_count": 1,
   "metadata": {
    "collapsed": false
   },
   "outputs": [
    {
     "data": {
      "text/html": [
       "<ol class=list-inline>\n",
       "\t<li>55</li>\n",
       "\t<li>0</li>\n",
       "\t<li>55</li>\n",
       "\t<li>10</li>\n",
       "</ol>\n"
      ],
      "text/latex": [
       "\\begin{enumerate*}\n",
       "\\item 55\n",
       "\\item 0\n",
       "\\item 55\n",
       "\\item 10\n",
       "\\end{enumerate*}\n"
      ],
      "text/markdown": [
       "1. 55\n",
       "2. 0\n",
       "3. 55\n",
       "4. 10\n",
       "\n",
       "\n"
      ],
      "text/plain": [
       "[1] 55  0 55 10"
      ]
     },
     "metadata": {},
     "output_type": "display_data"
    }
   ],
   "source": [
    "hackers_work <- function(l, h, method = \"correct\"){\n",
    "  \n",
    "  if(length(l) == length(h)) {\n",
    "    n = length(l)\n",
    "  } else {\n",
    "    print(\"the vectors don't have the same lenght\")\n",
    "  }\n",
    "  if(method == \"correct\"){\n",
    "    output <- list()\n",
    "    output[[1]] <- max(l[1], h[1])\n",
    "    output_aux <- which.max(c(l[1] +  l[2], h[1] + l[2],  h[2]))\n",
    "    if(output_aux == 1){\n",
    "      output[[2]] <- c(l[1], l[2])\n",
    "    } else{\n",
    "      if(output_aux == 2) {\n",
    "        output[[2]] <- c(h[1], l[2])\n",
    "      } else{\n",
    "        output[[2]] <- c(0, h[2])\n",
    "      }\n",
    "    }\n",
    "    \n",
    "    for(i in 3:n) {\n",
    "      if(h[i] > output[[i - 1]][length(output[[i - 1]])] + l[i]) {\n",
    "        output[[i]]   <- c(output[[i - 2]], 0, h[i])\n",
    "      } else {\n",
    "        output[[i]] <- c(output[[i - 1]], l[i])\n",
    "      }\n",
    "    }\n",
    "    output <- output[[length(output)]]\n",
    "  }\n",
    "  if(method == \"incorrect\"){\n",
    "    output = NULL\n",
    "    l[n + 1] <- 0\n",
    "    h[n + 1] <- 0\n",
    "    a <- 0\n",
    "    for(i in 1:n) {\n",
    "      if(a == 1) {\n",
    "        a <- 0\n",
    "        next\n",
    "      }\n",
    "      if(h[i + 1] > l[i] + l[i + 1]) {\n",
    "        output[i] <- 0\n",
    "        output[i + 1] <- h[i + 1]\n",
    "        a <- 1\n",
    "        next\n",
    "      } else {\n",
    "        output[i] <- l[i]\n",
    "        a <- 0\n",
    "        next\n",
    "      }\n",
    "    }  \n",
    "  }\n",
    "  return(output)\n",
    "}\n",
    "\n",
    "l = c(10, 1, 10, 10)\n",
    "h = c(55, 50, 55, 1)\n",
    "hackers_work(l, h, \"correct\")"
   ]
  },
  {
   "cell_type": "code",
   "execution_count": null,
   "metadata": {
    "collapsed": true
   },
   "outputs": [],
   "source": []
  }
 ],
 "metadata": {
  "anaconda-cloud": {},
  "kernelspec": {
   "display_name": "R",
   "language": "R",
   "name": "ir"
  },
  "language_info": {
   "codemirror_mode": "r",
   "file_extension": ".r",
   "mimetype": "text/x-r-source",
   "name": "R",
   "pygments_lexer": "r",
   "version": "3.3.2"
  }
 },
 "nbformat": 4,
 "nbformat_minor": 0
}
